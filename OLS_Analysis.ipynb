{
  "nbformat": 4,
  "nbformat_minor": 0,
  "metadata": {
    "colab": {
      "name": "601_OLS.ipynb",
      "provenance": []
    },
    "kernelspec": {
      "name": "python3",
      "display_name": "Python 3"
    },
    "language_info": {
      "name": "python"
    }
  },
  "cells": [
    {
      "cell_type": "code",
      "metadata": {
        "id": "6Wkj0gcqFp5g"
      },
      "source": [
        "import statsmodels.api as sm\n",
        "import pandas as pd\n",
        "import matplotlib.pyplot as plt\n",
        "plt.rcParams[\"figure.figsize\"] = (12,8) # set default figure size\n",
        "from sklearn.linear_model import LinearRegression"
      ],
      "execution_count": 6,
      "outputs": []
    },
    {
      "cell_type": "code",
      "metadata": {
        "colab": {
          "base_uri": "https://localhost:8080/",
          "height": 204
        },
        "id": "cUVPOqMbFvB3",
        "outputId": "f04a9ac0-565c-42f1-fd18-41066850c5b8"
      },
      "source": [
        "# import merged dataset \n",
        "\n",
        "df = pd.read_csv('https://raw.githubusercontent.com/ranjanj1/Traffic-Accident-Analysis-in-Washington-DC/main/merged.csv')\n",
        "df.head()"
      ],
      "execution_count": 2,
      "outputs": [
        {
          "output_type": "execute_result",
          "data": {
            "text/html": [
              "<div>\n",
              "<style scoped>\n",
              "    .dataframe tbody tr th:only-of-type {\n",
              "        vertical-align: middle;\n",
              "    }\n",
              "\n",
              "    .dataframe tbody tr th {\n",
              "        vertical-align: top;\n",
              "    }\n",
              "\n",
              "    .dataframe thead th {\n",
              "        text-align: right;\n",
              "    }\n",
              "</style>\n",
              "<table border=\"1\" class=\"dataframe\">\n",
              "  <thead>\n",
              "    <tr style=\"text-align: right;\">\n",
              "      <th></th>\n",
              "      <th>Hour</th>\n",
              "      <th>Day</th>\n",
              "      <th>Month</th>\n",
              "      <th>CrashCount</th>\n",
              "      <th>Precipitation</th>\n",
              "      <th>Snow_Dummy</th>\n",
              "      <th>Precipitation_Dummy</th>\n",
              "    </tr>\n",
              "  </thead>\n",
              "  <tbody>\n",
              "    <tr>\n",
              "      <th>0</th>\n",
              "      <td>0</td>\n",
              "      <td>1</td>\n",
              "      <td>1</td>\n",
              "      <td>14</td>\n",
              "      <td>0.060714</td>\n",
              "      <td>0</td>\n",
              "      <td>1</td>\n",
              "    </tr>\n",
              "    <tr>\n",
              "      <th>1</th>\n",
              "      <td>0</td>\n",
              "      <td>1</td>\n",
              "      <td>2</td>\n",
              "      <td>13</td>\n",
              "      <td>0.019231</td>\n",
              "      <td>1</td>\n",
              "      <td>1</td>\n",
              "    </tr>\n",
              "    <tr>\n",
              "      <th>2</th>\n",
              "      <td>0</td>\n",
              "      <td>1</td>\n",
              "      <td>3</td>\n",
              "      <td>19</td>\n",
              "      <td>0.247368</td>\n",
              "      <td>1</td>\n",
              "      <td>1</td>\n",
              "    </tr>\n",
              "    <tr>\n",
              "      <th>3</th>\n",
              "      <td>0</td>\n",
              "      <td>1</td>\n",
              "      <td>4</td>\n",
              "      <td>19</td>\n",
              "      <td>0.015789</td>\n",
              "      <td>0</td>\n",
              "      <td>1</td>\n",
              "    </tr>\n",
              "    <tr>\n",
              "      <th>4</th>\n",
              "      <td>0</td>\n",
              "      <td>1</td>\n",
              "      <td>5</td>\n",
              "      <td>11</td>\n",
              "      <td>0.085455</td>\n",
              "      <td>0</td>\n",
              "      <td>1</td>\n",
              "    </tr>\n",
              "  </tbody>\n",
              "</table>\n",
              "</div>"
            ],
            "text/plain": [
              "   Hour  Day  Month  CrashCount  Precipitation  Snow_Dummy  Precipitation_Dummy\n",
              "0     0    1      1          14       0.060714           0                    1\n",
              "1     0    1      2          13       0.019231           1                    1\n",
              "2     0    1      3          19       0.247368           1                    1\n",
              "3     0    1      4          19       0.015789           0                    1\n",
              "4     0    1      5          11       0.085455           0                    1"
            ]
          },
          "metadata": {
            "tags": []
          },
          "execution_count": 2
        }
      ]
    },
    {
      "cell_type": "code",
      "metadata": {
        "colab": {
          "base_uri": "https://localhost:8080/",
          "height": 204
        },
        "id": "y3iX0wA4JRhu",
        "outputId": "353d03e9-7267-4508-a3fd-5c6988a2e2b9"
      },
      "source": [
        "# create a DataFrame of aggregated CrashCount and average precipitation by month and hour\n",
        "\n",
        "monthly = df.groupby(['Month', 'Hour'], as_index= False).agg({'CrashCount':'mean', 'Precipitation': 'mean'})\n",
        "monthly.head()"
      ],
      "execution_count": 3,
      "outputs": [
        {
          "output_type": "execute_result",
          "data": {
            "text/html": [
              "<div>\n",
              "<style scoped>\n",
              "    .dataframe tbody tr th:only-of-type {\n",
              "        vertical-align: middle;\n",
              "    }\n",
              "\n",
              "    .dataframe tbody tr th {\n",
              "        vertical-align: top;\n",
              "    }\n",
              "\n",
              "    .dataframe thead th {\n",
              "        text-align: right;\n",
              "    }\n",
              "</style>\n",
              "<table border=\"1\" class=\"dataframe\">\n",
              "  <thead>\n",
              "    <tr style=\"text-align: right;\">\n",
              "      <th></th>\n",
              "      <th>Month</th>\n",
              "      <th>Hour</th>\n",
              "      <th>CrashCount</th>\n",
              "      <th>Precipitation</th>\n",
              "    </tr>\n",
              "  </thead>\n",
              "  <tbody>\n",
              "    <tr>\n",
              "      <th>0</th>\n",
              "      <td>1</td>\n",
              "      <td>0</td>\n",
              "      <td>16.451613</td>\n",
              "      <td>0.067714</td>\n",
              "    </tr>\n",
              "    <tr>\n",
              "      <th>1</th>\n",
              "      <td>1</td>\n",
              "      <td>1</td>\n",
              "      <td>16.290323</td>\n",
              "      <td>0.086894</td>\n",
              "    </tr>\n",
              "    <tr>\n",
              "      <th>2</th>\n",
              "      <td>1</td>\n",
              "      <td>2</td>\n",
              "      <td>15.419355</td>\n",
              "      <td>0.095146</td>\n",
              "    </tr>\n",
              "    <tr>\n",
              "      <th>3</th>\n",
              "      <td>1</td>\n",
              "      <td>3</td>\n",
              "      <td>12.225806</td>\n",
              "      <td>0.089673</td>\n",
              "    </tr>\n",
              "    <tr>\n",
              "      <th>4</th>\n",
              "      <td>1</td>\n",
              "      <td>4</td>\n",
              "      <td>9.064516</td>\n",
              "      <td>0.080308</td>\n",
              "    </tr>\n",
              "  </tbody>\n",
              "</table>\n",
              "</div>"
            ],
            "text/plain": [
              "   Month  Hour  CrashCount  Precipitation\n",
              "0      1     0   16.451613       0.067714\n",
              "1      1     1   16.290323       0.086894\n",
              "2      1     2   15.419355       0.095146\n",
              "3      1     3   12.225806       0.089673\n",
              "4      1     4    9.064516       0.080308"
            ]
          },
          "metadata": {
            "tags": []
          },
          "execution_count": 3
        }
      ]
    },
    {
      "cell_type": "code",
      "metadata": {
        "colab": {
          "base_uri": "https://localhost:8080/",
          "height": 946
        },
        "id": "qAdziZSzuSeh",
        "outputId": "1f170520-ef40-467f-c4de-3e7b6a878fca"
      },
      "source": [
        "# Perform OLS Regression based on hourly data and display results\n",
        "\n",
        "x = monthly['Hour']\n",
        "y = monthly['CrashCount']\n",
        "\n",
        "result1 = sm.OLS(y, x).fit()\n",
        "print(result1.summary(), '\\n')\n",
        "\n",
        "# display crash count by the hour\n",
        "plt.scatter(x, y, color = 'orange')\n",
        "plt.xticks(x.values)\n",
        "plt.xlabel('Hours (24hr)', fontsize = 14)\n",
        "plt.ylabel('Crash Count', fontsize = 14)\n",
        "plt.title('Crash Count by Hourly', fontsize = 18)\n",
        "\n",
        "plt.show()"
      ],
      "execution_count": 7,
      "outputs": [
        {
          "output_type": "stream",
          "text": [
            "                                 OLS Regression Results                                \n",
            "=======================================================================================\n",
            "Dep. Variable:             CrashCount   R-squared (uncentered):                   0.679\n",
            "Model:                            OLS   Adj. R-squared (uncentered):              0.678\n",
            "Method:                 Least Squares   F-statistic:                              608.3\n",
            "Date:                Tue, 27 Apr 2021   Prob (F-statistic):                    7.10e-73\n",
            "Time:                        04:02:16   Log-Likelihood:                         -981.05\n",
            "No. Observations:                 288   AIC:                                      1964.\n",
            "Df Residuals:                     287   BIC:                                      1968.\n",
            "Df Model:                           1                                                  \n",
            "Covariance Type:            nonrobust                                                  \n",
            "==============================================================================\n",
            "                 coef    std err          t      P>|t|      [0.025      0.975]\n",
            "------------------------------------------------------------------------------\n",
            "Hour           0.7915      0.032     24.665      0.000       0.728       0.855\n",
            "==============================================================================\n",
            "Omnibus:                       43.326   Durbin-Watson:                   0.339\n",
            "Prob(Omnibus):                  0.000   Jarque-Bera (JB):               60.245\n",
            "Skew:                           1.120   Prob(JB):                     8.28e-14\n",
            "Kurtosis:                       3.072   Cond. No.                         1.00\n",
            "==============================================================================\n",
            "\n",
            "Warnings:\n",
            "[1] Standard Errors assume that the covariance matrix of the errors is correctly specified. \n",
            "\n"
          ],
          "name": "stdout"
        },
        {
          "output_type": "display_data",
          "data": {
            "image/png": "[encoded data removed]",
            "text/plain": [
              "<Figure size 864x576 with 1 Axes>"
            ]
          },
          "metadata": {
            "tags": [],
            "needs_background": "light"
          }
        }
      ]
    },
    {
      "cell_type": "code",
      "metadata": {
        "colab": {
          "base_uri": "https://localhost:8080/",
          "height": 946
        },
        "id": "M037GtFxF5X3",
        "outputId": "1b2e0c94-b28c-4fc1-9fa7-8d6ef9ce40ec"
      },
      "source": [
        "# Perform OLS Regression based on precipitation data and display results\n",
        "\n",
        "prec = monthly['Precipitation']\n",
        "y = monthly['CrashCount']\n",
        "\n",
        "result2 = sm.OLS(y, prec).fit()\n",
        "print(result2.summary(), '\\n')\n",
        "\n",
        "# Predict values\n",
        "result_pred = result2.predict()\n",
        "\n",
        "# Plot regression against actual data\n",
        "plt.plot(prec, y, 'o') # scatter plot showing actual data\n",
        "plt.plot(prec, result_pred, 'r', linewidth=2)   # regression line\n",
        "plt.xlabel('Precipitation', fontsize = 14)\n",
        "plt.ylabel('Crash Count', fontsize = 14)\n",
        "plt.title('Crash Count by Precipitation', fontsize = 18 )\n",
        "\n",
        "plt.show()"
      ],
      "execution_count": 8,
      "outputs": [
        {
          "output_type": "stream",
          "text": [
            "                                 OLS Regression Results                                \n",
            "=======================================================================================\n",
            "Dep. Variable:             CrashCount   R-squared (uncentered):                   0.787\n",
            "Model:                            OLS   Adj. R-squared (uncentered):              0.787\n",
            "Method:                 Least Squares   F-statistic:                              1062.\n",
            "Date:                Tue, 27 Apr 2021   Prob (F-statistic):                    1.87e-98\n",
            "Time:                        04:02:20   Log-Likelihood:                         -922.02\n",
            "No. Observations:                 288   AIC:                                      1846.\n",
            "Df Residuals:                     287   BIC:                                      1850.\n",
            "Df Model:                           1                                                  \n",
            "Covariance Type:            nonrobust                                                  \n",
            "=================================================================================\n",
            "                    coef    std err          t      P>|t|      [0.025      0.975]\n",
            "---------------------------------------------------------------------------------\n",
            "Precipitation    92.3682      2.834     32.589      0.000      86.789      97.947\n",
            "==============================================================================\n",
            "Omnibus:                       10.973   Durbin-Watson:                   0.296\n",
            "Prob(Omnibus):                  0.004   Jarque-Bera (JB):               11.620\n",
            "Skew:                          -0.490   Prob(JB):                      0.00300\n",
            "Kurtosis:                       2.918   Cond. No.                         1.00\n",
            "==============================================================================\n",
            "\n",
            "Warnings:\n",
            "[1] Standard Errors assume that the covariance matrix of the errors is correctly specified. \n",
            "\n"
          ],
          "name": "stdout"
        },
        {
          "output_type": "display_data",
          "data": {
            "image/png": "[encoded data removed]",
            "text/plain": [
              "<Figure size 864x576 with 1 Axes>"
            ]
          },
          "metadata": {
            "tags": [],
            "needs_background": "light"
          }
        }
      ]
    },
    {
      "cell_type": "code",
      "metadata": {
        "id": "hoLyyMB4fdKJ"
      },
      "source": [
        ""
      ],
      "execution_count": null,
      "outputs": []
    }
  ]
}
