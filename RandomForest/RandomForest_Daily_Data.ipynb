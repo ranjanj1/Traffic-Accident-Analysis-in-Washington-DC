{
 "cells": [
  {
   "cell_type": "markdown",
   "id": "empirical-packaging",
   "metadata": {},
   "source": [
    "# Random Forest"
   ]
  },
  {
   "cell_type": "code",
   "execution_count": 1,
   "id": "fossil-defendant",
   "metadata": {},
   "outputs": [],
   "source": [
    "import numpy as np\n",
    "import pandas as pd\n",
    "import matplotlib as mpl\n",
    "import matplotlib.pyplot as plt"
   ]
  },
  {
   "cell_type": "code",
   "execution_count": 2,
   "id": "stylish-salvation",
   "metadata": {},
   "outputs": [
    {
     "data": {
      "text/plain": [
       "Index(['Date', 'Maximum Temperature', 'Minimum Temperature', 'Temperature',\n",
       "       'Wind Chill', 'Heat Index', 'Precipitation', 'Snow', 'Snow Depth',\n",
       "       'Wind Speed', 'Wind Direction', 'Wind Gust', 'Visibility',\n",
       "       'Cloud Cover', 'Relative Humidity', 'CrashCount'],\n",
       "      dtype='object')"
      ]
     },
     "execution_count": 2,
     "metadata": {},
     "output_type": "execute_result"
    }
   ],
   "source": [
    "df_RF = pd.read_csv('MergredDataForRF.csv')\n",
    "df_RF.columns"
   ]
  },
  {
   "cell_type": "code",
   "execution_count": 3,
   "id": "authorized-crowd",
   "metadata": {},
   "outputs": [
    {
     "name": "stdout",
     "output_type": "stream",
     "text": [
      "<class 'pandas.core.frame.DataFrame'>\n",
      "RangeIndex: 1461 entries, 0 to 1460\n",
      "Data columns (total 4 columns):\n",
      " #   Column         Non-Null Count  Dtype  \n",
      "---  ------         --------------  -----  \n",
      " 0   Date           1461 non-null   object \n",
      " 1   Precipitation  1461 non-null   float64\n",
      " 2   Snow           1461 non-null   float64\n",
      " 3   CrashCount     1461 non-null   int64  \n",
      "dtypes: float64(2), int64(1), object(1)\n",
      "memory usage: 45.8+ KB\n"
     ]
    }
   ],
   "source": [
    "df_RF.drop(['Maximum Temperature', 'Minimum Temperature', 'Temperature',\n",
    "       'Wind Chill', 'Heat Index', 'Snow Depth',\n",
    "       'Wind Speed', 'Wind Direction', 'Wind Gust', 'Visibility',\n",
    "       'Cloud Cover', 'Relative Humidity'], axis = 1, inplace= True)\n",
    "df_RF.info()"
   ]
  },
  {
   "cell_type": "code",
   "execution_count": 4,
   "id": "respiratory-access",
   "metadata": {},
   "outputs": [],
   "source": [
    "df_RF['Date'] = pd.to_datetime(df_RF['Date'])\n"
   ]
  },
  {
   "cell_type": "code",
   "execution_count": 5,
   "id": "norwegian-master",
   "metadata": {},
   "outputs": [
    {
     "data": {
      "text/html": [
       "<div>\n",
       "<style scoped>\n",
       "    .dataframe tbody tr th:only-of-type {\n",
       "        vertical-align: middle;\n",
       "    }\n",
       "\n",
       "    .dataframe tbody tr th {\n",
       "        vertical-align: top;\n",
       "    }\n",
       "\n",
       "    .dataframe thead th {\n",
       "        text-align: right;\n",
       "    }\n",
       "</style>\n",
       "<table border=\"1\" class=\"dataframe\">\n",
       "  <thead>\n",
       "    <tr style=\"text-align: right;\">\n",
       "      <th></th>\n",
       "      <th>index</th>\n",
       "      <th>Precipitation</th>\n",
       "      <th>Snow</th>\n",
       "      <th>CrashCount</th>\n",
       "    </tr>\n",
       "  </thead>\n",
       "  <tbody>\n",
       "    <tr>\n",
       "      <th>0</th>\n",
       "      <td>0</td>\n",
       "      <td>0.090000</td>\n",
       "      <td>0.061042</td>\n",
       "      <td>75.562500</td>\n",
       "    </tr>\n",
       "    <tr>\n",
       "      <th>1</th>\n",
       "      <td>1</td>\n",
       "      <td>0.106250</td>\n",
       "      <td>0.009167</td>\n",
       "      <td>70.666667</td>\n",
       "    </tr>\n",
       "    <tr>\n",
       "      <th>2</th>\n",
       "      <td>2</td>\n",
       "      <td>0.113750</td>\n",
       "      <td>0.152083</td>\n",
       "      <td>71.208333</td>\n",
       "    </tr>\n",
       "    <tr>\n",
       "      <th>3</th>\n",
       "      <td>3</td>\n",
       "      <td>0.075833</td>\n",
       "      <td>0.018125</td>\n",
       "      <td>71.270833</td>\n",
       "    </tr>\n",
       "    <tr>\n",
       "      <th>4</th>\n",
       "      <td>4</td>\n",
       "      <td>0.119583</td>\n",
       "      <td>0.008542</td>\n",
       "      <td>76.020833</td>\n",
       "    </tr>\n",
       "    <tr>\n",
       "      <th>5</th>\n",
       "      <td>5</td>\n",
       "      <td>0.115833</td>\n",
       "      <td>0.026875</td>\n",
       "      <td>72.125000</td>\n",
       "    </tr>\n",
       "    <tr>\n",
       "      <th>6</th>\n",
       "      <td>6</td>\n",
       "      <td>0.140208</td>\n",
       "      <td>0.041458</td>\n",
       "      <td>74.916667</td>\n",
       "    </tr>\n",
       "    <tr>\n",
       "      <th>7</th>\n",
       "      <td>7</td>\n",
       "      <td>0.096875</td>\n",
       "      <td>0.038958</td>\n",
       "      <td>72.041667</td>\n",
       "    </tr>\n",
       "    <tr>\n",
       "      <th>8</th>\n",
       "      <td>8</td>\n",
       "      <td>0.105208</td>\n",
       "      <td>0.018542</td>\n",
       "      <td>74.104167</td>\n",
       "    </tr>\n",
       "    <tr>\n",
       "      <th>9</th>\n",
       "      <td>9</td>\n",
       "      <td>0.066250</td>\n",
       "      <td>0.005208</td>\n",
       "      <td>73.750000</td>\n",
       "    </tr>\n",
       "    <tr>\n",
       "      <th>10</th>\n",
       "      <td>10</td>\n",
       "      <td>0.150208</td>\n",
       "      <td>0.003125</td>\n",
       "      <td>71.770833</td>\n",
       "    </tr>\n",
       "    <tr>\n",
       "      <th>11</th>\n",
       "      <td>11</td>\n",
       "      <td>0.094792</td>\n",
       "      <td>0.059167</td>\n",
       "      <td>74.270833</td>\n",
       "    </tr>\n",
       "    <tr>\n",
       "      <th>12</th>\n",
       "      <td>12</td>\n",
       "      <td>0.103333</td>\n",
       "      <td>0.129792</td>\n",
       "      <td>76.395833</td>\n",
       "    </tr>\n",
       "    <tr>\n",
       "      <th>13</th>\n",
       "      <td>13</td>\n",
       "      <td>0.144792</td>\n",
       "      <td>0.079167</td>\n",
       "      <td>73.291667</td>\n",
       "    </tr>\n",
       "    <tr>\n",
       "      <th>14</th>\n",
       "      <td>14</td>\n",
       "      <td>0.111042</td>\n",
       "      <td>0.039583</td>\n",
       "      <td>73.625000</td>\n",
       "    </tr>\n",
       "    <tr>\n",
       "      <th>15</th>\n",
       "      <td>15</td>\n",
       "      <td>0.119583</td>\n",
       "      <td>0.020625</td>\n",
       "      <td>76.729167</td>\n",
       "    </tr>\n",
       "    <tr>\n",
       "      <th>16</th>\n",
       "      <td>16</td>\n",
       "      <td>0.122292</td>\n",
       "      <td>0.026042</td>\n",
       "      <td>71.250000</td>\n",
       "    </tr>\n",
       "    <tr>\n",
       "      <th>17</th>\n",
       "      <td>17</td>\n",
       "      <td>0.101458</td>\n",
       "      <td>0.030208</td>\n",
       "      <td>75.854167</td>\n",
       "    </tr>\n",
       "    <tr>\n",
       "      <th>18</th>\n",
       "      <td>18</td>\n",
       "      <td>0.101875</td>\n",
       "      <td>0.026458</td>\n",
       "      <td>72.958333</td>\n",
       "    </tr>\n",
       "    <tr>\n",
       "      <th>19</th>\n",
       "      <td>19</td>\n",
       "      <td>0.105000</td>\n",
       "      <td>0.074583</td>\n",
       "      <td>73.125000</td>\n",
       "    </tr>\n",
       "    <tr>\n",
       "      <th>20</th>\n",
       "      <td>20</td>\n",
       "      <td>0.228125</td>\n",
       "      <td>0.063125</td>\n",
       "      <td>73.645833</td>\n",
       "    </tr>\n",
       "    <tr>\n",
       "      <th>21</th>\n",
       "      <td>21</td>\n",
       "      <td>0.127917</td>\n",
       "      <td>0.210417</td>\n",
       "      <td>73.229167</td>\n",
       "    </tr>\n",
       "    <tr>\n",
       "      <th>22</th>\n",
       "      <td>22</td>\n",
       "      <td>0.182292</td>\n",
       "      <td>0.237708</td>\n",
       "      <td>72.458333</td>\n",
       "    </tr>\n",
       "    <tr>\n",
       "      <th>23</th>\n",
       "      <td>23</td>\n",
       "      <td>0.164375</td>\n",
       "      <td>0.038542</td>\n",
       "      <td>68.979167</td>\n",
       "    </tr>\n",
       "    <tr>\n",
       "      <th>24</th>\n",
       "      <td>24</td>\n",
       "      <td>0.093333</td>\n",
       "      <td>0.000000</td>\n",
       "      <td>69.958333</td>\n",
       "    </tr>\n",
       "    <tr>\n",
       "      <th>25</th>\n",
       "      <td>25</td>\n",
       "      <td>0.036458</td>\n",
       "      <td>0.000000</td>\n",
       "      <td>69.625000</td>\n",
       "    </tr>\n",
       "    <tr>\n",
       "      <th>26</th>\n",
       "      <td>26</td>\n",
       "      <td>0.102292</td>\n",
       "      <td>0.000000</td>\n",
       "      <td>70.270833</td>\n",
       "    </tr>\n",
       "    <tr>\n",
       "      <th>27</th>\n",
       "      <td>27</td>\n",
       "      <td>0.150000</td>\n",
       "      <td>0.050625</td>\n",
       "      <td>71.333333</td>\n",
       "    </tr>\n",
       "    <tr>\n",
       "      <th>28</th>\n",
       "      <td>28</td>\n",
       "      <td>0.114444</td>\n",
       "      <td>0.056889</td>\n",
       "      <td>73.222222</td>\n",
       "    </tr>\n",
       "    <tr>\n",
       "      <th>29</th>\n",
       "      <td>29</td>\n",
       "      <td>0.077273</td>\n",
       "      <td>0.023182</td>\n",
       "      <td>72.795455</td>\n",
       "    </tr>\n",
       "    <tr>\n",
       "      <th>30</th>\n",
       "      <td>30</td>\n",
       "      <td>0.162857</td>\n",
       "      <td>0.022500</td>\n",
       "      <td>70.821429</td>\n",
       "    </tr>\n",
       "  </tbody>\n",
       "</table>\n",
       "</div>"
      ],
      "text/plain": [
       "    index  Precipitation      Snow  CrashCount\n",
       "0       0       0.090000  0.061042   75.562500\n",
       "1       1       0.106250  0.009167   70.666667\n",
       "2       2       0.113750  0.152083   71.208333\n",
       "3       3       0.075833  0.018125   71.270833\n",
       "4       4       0.119583  0.008542   76.020833\n",
       "5       5       0.115833  0.026875   72.125000\n",
       "6       6       0.140208  0.041458   74.916667\n",
       "7       7       0.096875  0.038958   72.041667\n",
       "8       8       0.105208  0.018542   74.104167\n",
       "9       9       0.066250  0.005208   73.750000\n",
       "10     10       0.150208  0.003125   71.770833\n",
       "11     11       0.094792  0.059167   74.270833\n",
       "12     12       0.103333  0.129792   76.395833\n",
       "13     13       0.144792  0.079167   73.291667\n",
       "14     14       0.111042  0.039583   73.625000\n",
       "15     15       0.119583  0.020625   76.729167\n",
       "16     16       0.122292  0.026042   71.250000\n",
       "17     17       0.101458  0.030208   75.854167\n",
       "18     18       0.101875  0.026458   72.958333\n",
       "19     19       0.105000  0.074583   73.125000\n",
       "20     20       0.228125  0.063125   73.645833\n",
       "21     21       0.127917  0.210417   73.229167\n",
       "22     22       0.182292  0.237708   72.458333\n",
       "23     23       0.164375  0.038542   68.979167\n",
       "24     24       0.093333  0.000000   69.958333\n",
       "25     25       0.036458  0.000000   69.625000\n",
       "26     26       0.102292  0.000000   70.270833\n",
       "27     27       0.150000  0.050625   71.333333\n",
       "28     28       0.114444  0.056889   73.222222\n",
       "29     29       0.077273  0.023182   72.795455\n",
       "30     30       0.162857  0.022500   70.821429"
      ]
     },
     "execution_count": 5,
     "metadata": {},
     "output_type": "execute_result"
    }
   ],
   "source": [
    "df_RF= df_RF.groupby([df_RF['Date'].dt.day], as_index= False).mean().reset_index()\n",
    "df_RF"
   ]
  },
  {
   "cell_type": "code",
   "execution_count": 6,
   "id": "infectious-gospel",
   "metadata": {},
   "outputs": [
    {
     "data": {
      "text/plain": [
       "(31, 35)"
      ]
     },
     "execution_count": 6,
     "metadata": {},
     "output_type": "execute_result"
    }
   ],
   "source": [
    "dummy = pd.get_dummies(df_RF['index'])\n",
    "dummy.columns = ['Day_1','Day_2','Day_3','Day_4','Day_5','Day_6','Day_7','Day_8','Day_9','Day_10',\n",
    "                  'Day_11','Day_12','Day_13','Day_14','Day_15','Day_16','Day_17','Day_18','Day_19','Day_20',\n",
    "                  'Day_21','Day_22','Day_23','Day_24','Day_25','Day_26','Day_27','Day_28','Day_29','Day_30',\n",
    "                  'Day_31']   \n",
    "df_RF = pd.concat([df_RF, dummy] , axis = 1)\n",
    "df_RF.shape"
   ]
  },
  {
   "cell_type": "code",
   "execution_count": 7,
   "id": "improved-writer",
   "metadata": {},
   "outputs": [
    {
     "data": {
      "text/plain": [
       "array([75.5625    , 70.66666667, 71.20833333, 71.27083333, 76.02083333,\n",
       "       72.125     , 74.91666667, 72.04166667, 74.10416667, 73.75      ,\n",
       "       71.77083333, 74.27083333, 76.39583333, 73.29166667, 73.625     ,\n",
       "       76.72916667, 71.25      , 75.85416667, 72.95833333, 73.125     ,\n",
       "       73.64583333, 73.22916667, 72.45833333, 68.97916667, 69.95833333,\n",
       "       69.625     , 70.27083333, 71.33333333, 73.22222222, 72.79545455,\n",
       "       70.82142857])"
      ]
     },
     "execution_count": 7,
     "metadata": {},
     "output_type": "execute_result"
    }
   ],
   "source": [
    "# Labels are the values we want to predict\n",
    "labels = np.array(df_RF['CrashCount'])\n",
    "labels"
   ]
  },
  {
   "cell_type": "code",
   "execution_count": 8,
   "id": "hidden-bikini",
   "metadata": {},
   "outputs": [],
   "source": [
    "# Saving feature names for later use\n",
    "feature_list = list(df_RF.columns)\n",
    "\n",
    "# Remove the labels from the features\n",
    "# axis 1 refers to the columns\n",
    "df_RF= df_RF.drop(['CrashCount','index'], axis = 1)\n",
    "\n",
    "df_RF = np.array(df_RF)\n"
   ]
  },
  {
   "cell_type": "code",
   "execution_count": 9,
   "id": "facial-triple",
   "metadata": {},
   "outputs": [],
   "source": [
    "from sklearn.model_selection import train_test_split\n",
    "x_train, x_test, y_train, y_test = train_test_split(df_RF,labels,test_size=0.25,random_state = 42)"
   ]
  },
  {
   "cell_type": "code",
   "execution_count": 10,
   "id": "printable-introduction",
   "metadata": {},
   "outputs": [
    {
     "name": "stdout",
     "output_type": "stream",
     "text": [
      "Training data set length=23\n",
      "Testing data set length=8\n"
     ]
    }
   ],
   "source": [
    "print('Training data set length='+str(len(x_train)))\n",
    "print('Testing data set length='+str(len(x_test)))"
   ]
  },
  {
   "cell_type": "code",
   "execution_count": 11,
   "id": "distributed-vacation",
   "metadata": {},
   "outputs": [],
   "source": [
    "# Import the model we are using\n",
    "from sklearn.ensemble import RandomForestRegressor\n",
    "# Instantiate model with 1000 decision trees\n",
    "rf = RandomForestRegressor(n_estimators = 1000, random_state = 42)\n",
    "# Train the model on training data\n",
    "rf.fit(x_train, y_train);"
   ]
  },
  {
   "cell_type": "code",
   "execution_count": 15,
   "id": "aware-serve",
   "metadata": {},
   "outputs": [
    {
     "name": "stdout",
     "output_type": "stream",
     "text": [
      "Mean Absolute Error: 2.74 degrees.\n"
     ]
    }
   ],
   "source": [
    "# Use the forest's predict method on the test data\n",
    "y_pred = rf.predict(x_test)\n",
    "# Calculate the absolute errors\n",
    "errors = abs(y_pred - y_test)\n",
    "# Print out the mean absolute error (mae)\n",
    "print('Mean Absolute Error:', round(np.mean(errors), 2), 'degrees.')\n"
   ]
  },
  {
   "cell_type": "code",
   "execution_count": 16,
   "id": "meaning-nudist",
   "metadata": {},
   "outputs": [
    {
     "name": "stdout",
     "output_type": "stream",
     "text": [
      "Accuracy: 96.27 %.\n"
     ]
    }
   ],
   "source": [
    "# Calculate mean absolute percentage error (MAPE)\n",
    "mape = 100 * (errors /y_test)\n",
    "# Calculate and display accuracy\n",
    "accuracy = 100 - np.mean(mape)\n",
    "print('Accuracy:', round(accuracy, 2), '%.')"
   ]
  },
  {
   "cell_type": "code",
   "execution_count": 17,
   "id": "olive-federation",
   "metadata": {},
   "outputs": [
    {
     "name": "stdout",
     "output_type": "stream",
     "text": [
      "Variable: Precipitation        Importance: 0.51\n",
      "Variable: Day_3                Importance: 0.16\n",
      "Variable: index                Importance: 0.11\n",
      "Variable: Day_11               Importance: 0.09\n",
      "Variable: Day_1                Importance: 0.04\n",
      "Variable: Day_5                Importance: 0.03\n",
      "Variable: Snow                 Importance: 0.02\n",
      "Variable: CrashCount           Importance: 0.01\n",
      "Variable: Day_10               Importance: 0.01\n",
      "Variable: Day_24               Importance: 0.01\n",
      "Variable: Day_2                Importance: 0.0\n",
      "Variable: Day_4                Importance: 0.0\n",
      "Variable: Day_6                Importance: 0.0\n",
      "Variable: Day_7                Importance: 0.0\n",
      "Variable: Day_8                Importance: 0.0\n",
      "Variable: Day_9                Importance: 0.0\n",
      "Variable: Day_12               Importance: 0.0\n",
      "Variable: Day_13               Importance: 0.0\n",
      "Variable: Day_14               Importance: 0.0\n",
      "Variable: Day_15               Importance: 0.0\n",
      "Variable: Day_16               Importance: 0.0\n",
      "Variable: Day_17               Importance: 0.0\n",
      "Variable: Day_18               Importance: 0.0\n",
      "Variable: Day_19               Importance: 0.0\n",
      "Variable: Day_20               Importance: 0.0\n",
      "Variable: Day_21               Importance: 0.0\n",
      "Variable: Day_22               Importance: 0.0\n",
      "Variable: Day_23               Importance: 0.0\n",
      "Variable: Day_25               Importance: 0.0\n",
      "Variable: Day_26               Importance: 0.0\n",
      "Variable: Day_27               Importance: 0.0\n",
      "Variable: Day_28               Importance: 0.0\n",
      "Variable: Day_29               Importance: 0.0\n"
     ]
    }
   ],
   "source": [
    "# Get numerical feature importances\n",
    "importances = list(rf.feature_importances_)\n",
    "# List of tuples with variable and importance\n",
    "feature_importances = [(feature, round(importance, 2)) for feature, importance in zip(feature_list, importances)]\n",
    "# Sort the feature importances by most important first\n",
    "feature_importances = sorted(feature_importances, key = lambda x: x[1], reverse = True)\n",
    "# Print out the feature and importances \n",
    "[print('Variable: {:20} Importance: {}'.format(*pair)) for pair in feature_importances];\n"
   ]
  },
  {
   "cell_type": "code",
   "execution_count": 18,
   "id": "suited-finder",
   "metadata": {
    "scrolled": true
   },
   "outputs": [
    {
     "data": {
      "image/png": "[encoded data removed]",
      "text/plain": [
       "<Figure size 432x288 with 1 Axes>"
      ]
     },
     "metadata": {
      "needs_background": "light"
     },
     "output_type": "display_data"
    }
   ],
   "source": [
    "fig = plt.figure()\n",
    "fig.suptitle('Scatter plot of Daily Actual versus Predicted counts')\n",
    "plt.scatter(x=y_pred, y=y_test, marker='*')\n",
    "plt.xlabel('Predicted Counts')\n",
    "plt.ylabel('Actual Counts')\n",
    "plt.show()"
   ]
  }
 ],
 "metadata": {
  "kernelspec": {
   "display_name": "Python 3",
   "language": "python",
   "name": "python3"
  },
  "language_info": {
   "codemirror_mode": {
    "name": "ipython",
    "version": 3
   },
   "file_extension": ".py",
   "mimetype": "text/x-python",
   "name": "python",
   "nbconvert_exporter": "python",
   "pygments_lexer": "ipython3",
   "version": "3.9.2"
  }
 },
 "nbformat": 4,
 "nbformat_minor": 5
}
